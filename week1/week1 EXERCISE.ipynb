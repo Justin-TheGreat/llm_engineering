{
 "cells": [
  {
   "cell_type": "markdown",
   "id": "fe12c203-e6a6-452c-a655-afb8a03a4ff5",
   "metadata": {},
   "source": [
    "# End of week 1 exercise\n",
    "\n",
    "To demonstrate your familiarity with OpenAI API, and also Ollama, build a tool that takes a technical question,  \n",
    "and responds with an explanation. This is a tool that you will be able to use yourself during the course!"
   ]
  },
  {
   "cell_type": "code",
   "execution_count": 24,
   "id": "c1070317-3ed9-4659-abe3-828943230e03",
   "metadata": {},
   "outputs": [],
   "source": [
    "# imports\n",
    "\n",
    "import os\n",
    "import requests\n",
    "import json\n",
    "from typing import List\n",
    "from dotenv import load_dotenv\n",
    "from bs4 import BeautifulSoup\n",
    "from IPython.display import Markdown, display, update_display\n",
    "from openai import OpenAI\n",
    "from google import genai\n",
    "from google.genai import types\n",
    "import ollama"
   ]
  },
  {
   "cell_type": "code",
   "execution_count": 25,
   "id": "4a456906-915a-4bfd-bb9d-57e505c5093f",
   "metadata": {},
   "outputs": [],
   "source": [
    "# constants\n",
    "\n",
    "MODEL_GPT = 'gemini-2.5-flash'\n",
    "MODEL_LLAMA = 'llama3.2'\n",
    "MODEL_LLAMA = 'gemma3n:latest'"
   ]
  },
  {
   "cell_type": "code",
   "execution_count": 26,
   "id": "a8d7923c-5f28-4c30-8556-342d7c8497c1",
   "metadata": {},
   "outputs": [],
   "source": [
    "# set up environment\n",
    "API_KEY = os.getenv('GEMINI_API_KEY')\n",
    "client = genai.Client(api_key=API_KEY)"
   ]
  },
  {
   "cell_type": "code",
   "execution_count": 27,
   "id": "3f0d0137-52b0-47a8-81a8-11a90a010798",
   "metadata": {},
   "outputs": [],
   "source": [
    "# here is the question; type over this to ask something new\n",
    "\n",
    "question = \"\"\"\n",
    "Please explain what this code does and why:\n",
    "yield from {book.get(\"author\") for book in books if book.get(\"author\")}\n",
    "\"\"\""
   ]
  },
  {
   "cell_type": "code",
   "execution_count": 28,
   "id": "2c4c3c40",
   "metadata": {},
   "outputs": [],
   "source": [
    "# prompts\n",
    "\n",
    "system_prompt = \"You are a helpful technical tutor who answers questions about python code, software engineering, data science and LLMs\"\n",
    "user_prompt = \"Please give a detailed explanation to the following question with complete code example: \" + question"
   ]
  },
  {
   "cell_type": "code",
   "execution_count": 29,
   "id": "54207e3f",
   "metadata": {},
   "outputs": [
    {
     "name": "stdout",
     "output_type": "stream",
     "text": [
      "[{'role': 'system', 'content': 'You are a helpful technical tutor who answers questions about python code, software engineering, data science and LLMs'}, {'role': 'user', 'content': 'Please give a detailed explanation to the following question with complete code example: \\nPlease explain what this code does and why:\\nyield from {book.get(\"author\") for book in books if book.get(\"author\")}\\n'}]\n"
     ]
    }
   ],
   "source": [
    "# messages\n",
    "\n",
    "messages = [\n",
    "    {\"role\": \"system\", \"content\": system_prompt},\n",
    "    {\"role\": \"user\", \"content\": user_prompt}\n",
    "]\n",
    "\n",
    "print(messages)"
   ]
  },
  {
   "cell_type": "code",
   "execution_count": 30,
   "id": "60ce7000-a4a5-4cce-a261-e75ef45063b4",
   "metadata": {},
   "outputs": [],
   "source": [
    "# Get gpt-4o-mini to answer, with streaming\n"
   ]
  },
  {
   "cell_type": "code",
   "execution_count": 31,
   "id": "8f7c8ea8-4082-4ad0-8751-3301adcf6538",
   "metadata": {},
   "outputs": [
    {
     "data": {
      "text/markdown": [
       "Okay, let's break down this Python code snippet. It's a concise and efficient way to extract a list of authors from a collection of book dictionaries using a generator expression and the `yield from` keyword.  I'll provide a detailed explanation, including what it does, why it's written this way, and a complete, runnable code example.\n",
       "\n",
       "**Code:**\n",
       "\n",
       "```python\n",
       "books = [\n",
       "    {\"title\": \"The Lord of the Rings\", \"author\": \"J.R.R. Tolkien\"},\n",
       "    {\"title\": \"Pride and Prejudice\", \"author\": \"Jane Austen\"},\n",
       "    {\"title\": \"1984\", \"author\": \"George Orwell\"},\n",
       "    {\"title\": \"To Kill a Mockingbird\"},  # Missing \"author\" key\n",
       "    {\"title\": \"The Great Gatsby\", \"author\": None}, #Author is None\n",
       "    {\"title\": \"Another Book\", \"author\": \"Someone\"}\n",
       "]\n",
       "\n",
       "author_list = yield from {book.get(\"author\") for book in books if book.get(\"author\")}\n",
       "\n",
       "print(author_list)\n",
       "```\n",
       "\n",
       "**Explanation:**\n",
       "\n",
       "1. **`books` List:**\n",
       "\n",
       "   - This is a list of dictionaries. Each dictionary represents a book and contains keys like \"title\" and \"author\".  The \"author\" key is intended to hold the name of the book's author.  Note that some books are missing the \"author\" key, and one has `None` as the author.\n",
       "\n",
       "2. **Generator Expression: `{book.get(\"author\") for book in books if book.get(\"author\")}`**\n",
       "\n",
       "   - This is the core of the code. It's a generator expression, which is a concise way to create a generator. Let's break it down further:\n",
       "     - **`for book in books`:** This iterates through each dictionary in the `books` list.\n",
       "     - **`book.get(\"author\")`:**  This is crucial.  The `get()` method is used to safely access the value associated with the \"author\" key in each dictionary.  \n",
       "       - If the \"author\" key *exists* in the dictionary, `book.get(\"author\")` returns the corresponding value (e.g., \"J.R.R. Tolkien\").\n",
       "       - If the \"author\" key *does not exist* in the dictionary, `book.get(\"author\")` returns `None` (by default). This prevents a `KeyError` from being raised.\n",
       "     - **`if book.get(\"author\")`:** This is a conditional filter. It only includes books in the generator if the value returned by `book.get(\"author\")` is truthy.  In Python, `None` is considered falsy.  So, this condition effectively filters out books where the \"author\" key is missing or has a value of `None`.\n",
       "     - **`{...}`:** The curly braces `{}` create a set comprehension.  This is a concise way to create a set from an iterable.  The set comprehension will contain only the author names that are truthy (i.e., not `None` or missing).\n",
       "\n",
       "3. **`yield from` Keyword:**\n",
       "\n",
       "   - The `yield from` statement is used within a generator function (or in this case, used directly in a context where it's valid). It's a shorthand for yielding all the values produced by another iterable.\n",
       "   - In this case, the generator expression creates an iterable (a sequence of author names).  `yield from` iterates over this iterable and yields each value one by one.\n",
       "\n",
       "4. **`author_list = ...`:**\n",
       "\n",
       "   - The result of the `yield from` expression (which is the sequence of author names) is assigned to the variable `author_list`.\n",
       "\n",
       "5. **`print(author_list)`:**\n",
       "\n",
       "   - This simply prints the `author_list` to the console.\n",
       "\n",
       "**Why this approach is used:**\n",
       "\n",
       "- **Conciseness:**  The generator expression and `yield from` provide a very compact way to achieve the desired result.  It's more readable than a traditional `for` loop with an `if` statement.\n",
       "- **Efficiency:** Generator expressions are memory-efficient. They don't create a complete list in memory all at once. Instead, they generate values on demand, which is beneficial when dealing with large datasets.\n",
       "- **Handles Missing Keys Gracefully:** The `book.get(\"author\")` method handles cases where the \"author\" key is missing from some dictionaries, preventing errors.\n",
       "- **Filtering:** The `if book.get(\"author\")` condition ensures that only books with valid author names are included in the output.\n",
       "\n",
       "**Output:**\n",
       "\n",
       "```\n",
       "['J.R.R. Tolkien', 'Jane Austen', 'George Orwell', 'Someone']\n",
       "```\n",
       "\n",
       "**In summary:**\n",
       "\n",
       "The code efficiently extracts a list of author names from a list of book dictionaries, handling missing keys and filtering out invalid author names. It leverages a generator expression and `yield from` for conciseness, efficiency, and readability.  This is a common pattern in Python for data processing and data extraction tasks.  It's a good example of how to write clean and Pythonic code.\n"
      ],
      "text/plain": [
       "<IPython.core.display.Markdown object>"
      ]
     },
     "metadata": {},
     "output_type": "display_data"
    }
   ],
   "source": [
    "# Get Llama 3.2 to answer\n",
    "\n",
    "response = ollama.chat(model=MODEL_LLAMA, messages=messages)\n",
    "reply = response['message']['content']\n",
    "display(Markdown(reply))"
   ]
  },
  {
   "cell_type": "code",
   "execution_count": 35,
   "id": "249fa835",
   "metadata": {},
   "outputs": [
    {
     "name": "stdout",
     "output_type": "stream",
     "text": [
      "George Orwell\n",
      "Someone\n",
      "J.R.R. Tolkien\n",
      "Jane Austen\n"
     ]
    }
   ],
   "source": [
    "books = [\n",
    "    {\"title\": \"The Lord of the Rings\", \"author\": \"J.R.R. Tolkien\"},\n",
    "    {\"title\": \"Pride and Prejudice\", \"author\": \"Jane Austen\"},\n",
    "    {\"title\": \"1984\", \"author\": \"George Orwell\"},\n",
    "    {\"title\": \"To Kill a Mockingbird\"},  # Missing \"author\" key\n",
    "    {\"title\": \"The Great Gatsby\", \"author\": None}, #Author is None\n",
    "    {\"title\": \"Another Book\", \"author\": \"Someone\"}\n",
    "]\n",
    "\n",
    "def xyz(books):\n",
    "    yield from {book.get(\"author\") for book in books if book.get(\"author\")}\n",
    "\n",
    "author_list = xyz(books)\n",
    "\n",
    "for i in author_list:\n",
    "    print(i)"
   ]
  },
  {
   "cell_type": "code",
   "execution_count": 32,
   "id": "9ce9aa28",
   "metadata": {},
   "outputs": [
    {
     "name": "stdout",
     "output_type": "stream",
     "text": [
      "<generator object get_unique_authors_generator at 0x000002D9CA91E5E0>\n",
      "Unique authors yielded by the generator:\n",
      "Andy Weir\n",
      "Frank Herbert\n",
      "William Gibson\n",
      "Douglas Adams\n",
      "Isaac Asimov\n",
      "\n",
      "Unique authors as a list (order is not guaranteed):\n",
      "['Andy Weir', 'Frank Herbert', 'William Gibson', 'Douglas Adams', 'Isaac Asimov']\n"
     ]
    }
   ],
   "source": [
    "# The input data\n",
    "books = [\n",
    "    {\"title\": \"The Hitchhiker's Guide to the Galaxy\", \"author\": \"Douglas Adams\"},\n",
    "    {\"title\": \"The Restaurant at the End of the Universe\", \"author\": \"Douglas Adams\"},\n",
    "    {\"title\": \"Dune\", \"author\": \"Frank Herbert\"},\n",
    "    {\"title\": \"Foundation\", \"author\": \"Isaac Asimov\"},\n",
    "    {\"title\": \"I, Robot\", \"author\": \"Isaac Asimov\"},\n",
    "    {\"title\": \"Neuromancer\", \"author\": \"William Gibson\"},\n",
    "    {\"title\": None}, # A book with no data\n",
    "    {\"title\": \"The Martian\", \"author\": \"Andy Weir\"}\n",
    "]\n",
    "\n",
    "# The generator function\n",
    "def get_unique_authors_generator(books_list):\n",
    "    \"\"\"\n",
    "    A generator that yields unique author names from a list of book dictionaries.\n",
    "    It uses a set comprehension to efficiently find unique names and\n",
    "    'yield from' to elegantly delegate to the resulting set.\n",
    "    \"\"\"\n",
    "    yield from {book.get(\"author\") for book in books_list if book.get(\"author\")}\n",
    "\n",
    "# Instantiate the generator\n",
    "unique_authors = get_unique_authors_generator(books)\n",
    "print(unique_authors)\n",
    "# Iterate through the generator and print the results\n",
    "print(\"Unique authors yielded by the generator:\")\n",
    "for author in unique_authors:\n",
    "    print(author)\n",
    "\n",
    "# You can also convert the generator to a list to see all the results at once\n",
    "# Note: The order is not guaranteed because sets are unordered\n",
    "list_of_authors = list(get_unique_authors_generator(books))\n",
    "print(\"\\nUnique authors as a list (order is not guaranteed):\")\n",
    "print(list_of_authors)"
   ]
  }
 ],
 "metadata": {
  "kernelspec": {
   "display_name": "ai",
   "language": "python",
   "name": "python3"
  },
  "language_info": {
   "codemirror_mode": {
    "name": "ipython",
    "version": 3
   },
   "file_extension": ".py",
   "mimetype": "text/x-python",
   "name": "python",
   "nbconvert_exporter": "python",
   "pygments_lexer": "ipython3",
   "version": "3.12.11"
  }
 },
 "nbformat": 4,
 "nbformat_minor": 5
}
