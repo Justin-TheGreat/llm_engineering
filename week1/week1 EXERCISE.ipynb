{
 "cells": [
  {
   "cell_type": "markdown",
   "id": "fe12c203-e6a6-452c-a655-afb8a03a4ff5",
   "metadata": {},
   "source": [
    "# End of week 1 exercise\n",
    "\n",
    "To demonstrate your familiarity with OpenAI API, and also Ollama, build a tool that takes a technical question,  \n",
    "and responds with an explanation. This is a tool that you will be able to use yourself during the course!"
   ]
  },
  {
   "cell_type": "code",
   "execution_count": 1,
   "id": "c1070317-3ed9-4659-abe3-828943230e03",
   "metadata": {},
   "outputs": [],
   "source": [
    "# imports\n",
    "\n",
    "import os\n",
    "import requests\n",
    "import json\n",
    "from typing import List\n",
    "from dotenv import load_dotenv\n",
    "from bs4 import BeautifulSoup\n",
    "from IPython.display import Markdown, display, update_display\n",
    "from openai import OpenAI\n",
    "from google import genai\n",
    "from google.genai import types\n",
    "import ollama"
   ]
  },
  {
   "cell_type": "code",
   "execution_count": 2,
   "id": "4a456906-915a-4bfd-bb9d-57e505c5093f",
   "metadata": {},
   "outputs": [],
   "source": [
    "# constants\n",
    "\n",
    "MODEL_GPT = 'gemini-2.5-flash'\n",
    "MODEL_LLAMA = 'llama3.2'\n",
    "MODEL_LLAMA = 'gemma3n:latest'"
   ]
  },
  {
   "cell_type": "code",
   "execution_count": 3,
   "id": "a8d7923c-5f28-4c30-8556-342d7c8497c1",
   "metadata": {},
   "outputs": [],
   "source": [
    "# set up environment\n",
    "API_KEY = os.getenv('GEMINI_API_KEY')\n",
    "client = genai.Client(api_key=API_KEY)"
   ]
  },
  {
   "cell_type": "code",
   "execution_count": 4,
   "id": "3f0d0137-52b0-47a8-81a8-11a90a010798",
   "metadata": {},
   "outputs": [],
   "source": [
    "# here is the question; type over this to ask something new\n",
    "\n",
    "question = \"\"\"\n",
    "Please explain what this code does and why:\n",
    "yield from {book.get(\"author\") for book in books if book.get(\"author\")}\n",
    "\"\"\""
   ]
  },
  {
   "cell_type": "code",
   "execution_count": 5,
   "id": "2c4c3c40",
   "metadata": {},
   "outputs": [],
   "source": [
    "# prompts\n",
    "\n",
    "system_prompt = \"You are a helpful technical tutor who answers questions about python code, software engineering, data science and LLMs\"\n",
    "user_prompt = \"Please give a detailed explanation to the following question with complete code example: \" + question"
   ]
  },
  {
   "cell_type": "code",
   "execution_count": 6,
   "id": "54207e3f",
   "metadata": {},
   "outputs": [
    {
     "name": "stdout",
     "output_type": "stream",
     "text": [
      "[{'role': 'system', 'content': 'You are a helpful technical tutor who answers questions about python code, software engineering, data science and LLMs'}, {'role': 'user', 'content': 'Please give a detailed explanation to the following question with complete code example: \\nPlease explain what this code does and why:\\nyield from {book.get(\"author\") for book in books if book.get(\"author\")}\\n'}]\n"
     ]
    }
   ],
   "source": [
    "# messages\n",
    "\n",
    "messages = [\n",
    "    {\"role\": \"system\", \"content\": system_prompt},\n",
    "    {\"role\": \"user\", \"content\": user_prompt}\n",
    "]\n",
    "\n",
    "print(messages)"
   ]
  },
  {
   "cell_type": "code",
   "execution_count": 7,
   "id": "60ce7000-a4a5-4cce-a261-e75ef45063b4",
   "metadata": {},
   "outputs": [],
   "source": [
    "# Get gpt-4o-mini to answer, with streaming\n"
   ]
  },
  {
   "cell_type": "code",
   "execution_count": 8,
   "id": "8f7c8ea8-4082-4ad0-8751-3301adcf6538",
   "metadata": {},
   "outputs": [
    {
     "data": {
      "text/markdown": [
       "Okay, let's break down the Python code snippet:\n",
       "\n",
       "```python\n",
       "yield from {book.get(\"author\") for book in books if book.get(\"author\")}\n",
       "```\n",
       "\n",
       "**What it does:**\n",
       "\n",
       "This code uses a generator expression combined with the `yield from` statement to efficiently extract author names from a list of book dictionaries.  It's a concise way to iterate through the books and yield the author names that actually exist (i.e., books that have an \"author\" key with a non-empty value).\n",
       "\n",
       "**Explanation, step by step:**\n",
       "\n",
       "1. **`books`:**  We assume `books` is a list of dictionaries. Each dictionary represents a book, and it's expected to have a key called \"author\" that might contain the author's name.\n",
       "\n",
       "2. **`for book in books`:** This is a standard `for` loop that iterates through each dictionary (`book`) in the `books` list.\n",
       "\n",
       "3. **`book.get(\"author\")`:**  The `get()` method is used to safely access the value associated with the key \"author\" in the current `book` dictionary.  `get()` is preferred over direct dictionary access (e.g., `book[\"author\"]`) because `get()` returns `None` if the key doesn't exist, preventing a `KeyError`.  This is important for robustness.\n",
       "\n",
       "4. **`if book.get(\"author\")`:** This is a conditional check. It verifies that the value returned by `book.get(\"author\")` is \"truthy\".  In Python, an empty string (`\"\"`) is considered \"falsy\", while a non-empty string is \"truthy\".  Therefore, this condition filters out books where the \"author\" key exists but has an empty value.\n",
       "\n",
       "5. **`{... for ... if ...}` (Generator Expression):** This is a generator expression.  It's a compact way to create an iterator.  It's similar to a list comprehension, but it doesn't create the entire list in memory at once. Instead, it generates values on demand.  This is more memory-efficient, especially when dealing with large datasets.  The generator expression does the following:\n",
       "   - It iterates through the `books` list.\n",
       "   - For each `book`, it retrieves the author name using `book.get(\"author\")`.\n",
       "   - It only includes the author name in the resulting sequence if the author name is not empty (due to the `if` condition).\n",
       "\n",
       "6. **`yield from ...`:** This is the key part that makes this code a generator.  The `yield from` statement yields all the values generated by the expression within the curly braces.  It's a shorthand for iterating through an iterable (in this case, the generator expression) and yielding each item.  It's equivalent to writing a loop that iterates through the generator expression and `yield`s each value.\n",
       "\n",
       "**Why use a generator expression with `yield from`?**\n",
       "\n",
       "* **Memory Efficiency:**  Generator expressions are memory-efficient because they produce values one at a time, rather than creating an entire list in memory. This is particularly beneficial when dealing with large datasets.\n",
       "* **Readability:**  The code is concise and readable, expressing the intent clearly.\n",
       "* **Lazy Evaluation:** Values are generated only when they are needed, which can improve performance.\n",
       "* **Handles Missing Keys Gracefully:** The use of `book.get(\"author\")` prevents `KeyError` exceptions if a book dictionary doesn't have an \"author\" key.\n",
       "\n",
       "**Complete Code Example:**\n",
       "\n",
       "```python\n",
       "books = [\n",
       "    {\"title\": \"Pride and Prejudice\", \"author\": \"Jane Austen\"},\n",
       "    {\"title\": \"To Kill a Mockingbird\", \"author\": \"Harper Lee\"},\n",
       "    {\"title\": \"1984\", \"author\": \"\"},  # Empty author\n",
       "    {\"title\": \"The Great Gatsby\"},  # Missing author key\n",
       "    {\"title\": \"Moby Dick\", \"author\": \"Herman Melville\"},\n",
       "    {\"title\": \"Animal Farm\", \"author\": None} #None author\n",
       "]\n",
       "\n",
       "def get_authors(books):\n",
       "  \"\"\"\n",
       "  Extracts author names from a list of book dictionaries, handling missing or empty author values.\n",
       "\n",
       "  Args:\n",
       "    books: A list of dictionaries, where each dictionary represents a book and \n",
       "           may contain an \"author\" key.\n",
       "\n",
       "  Yields:\n",
       "    The author names of the books, filtered to exclude empty or missing author values.\n",
       "  \"\"\"\n",
       "  yield from {book.get(\"author\") for book in books if book.get(\"author\")}\n",
       "\n",
       "# Use the generator to get the author names\n",
       "for author in get_authors(books):\n",
       "  print(author)\n",
       "```\n",
       "\n",
       "**Output of the example:**\n",
       "\n",
       "```\n",
       "Jane Austen\n",
       "Harper Lee\n",
       "Herman Melville\n",
       "```\n",
       "\n",
       "**Key improvements in the example:**\n",
       "\n",
       "* **Function encapsulation:** The code is wrapped in a function `get_authors` for better organization and reusability.\n",
       "* **Docstring:**  A docstring is included to explain what the function does, its arguments, and what it yields.\n",
       "* **Clearer variable names:**  More descriptive variable names are used.\n",
       "* **Handles `None` author values:** The code correctly handles cases where the \"author\" value is `None`.  `None` is also considered falsy, so it will be excluded.\n",
       "\n",
       "**In summary:** The code provides a clean, efficient, and robust way to extract author names from a list of book dictionaries, while gracefully handling missing or empty author values.  The use of a generator expression with `yield from` makes it memory-efficient and readable.  This is a common pattern in Python for data processing tasks.  It's a good example of how to write Python code that is both concise and easy to understand."
      ],
      "text/plain": [
       "<IPython.core.display.Markdown object>"
      ]
     },
     "metadata": {},
     "output_type": "display_data"
    }
   ],
   "source": [
    "# Get Llama 3.2 to answer\n",
    "\n",
    "response = ollama.chat(model=MODEL_LLAMA, messages=messages)\n",
    "reply = response['message']['content']\n",
    "display(Markdown(reply))"
   ]
  },
  {
   "cell_type": "code",
   "execution_count": 9,
   "id": "249fa835",
   "metadata": {},
   "outputs": [
    {
     "name": "stdout",
     "output_type": "stream",
     "text": [
      "George Orwell\n",
      "J.R.R. Tolkien\n",
      "Someone\n",
      "Jane Austen\n"
     ]
    }
   ],
   "source": [
    "books = [\n",
    "    {\"title\": \"The Lord of the Rings\", \"author\": \"J.R.R. Tolkien\"},\n",
    "    {\"title\": \"Pride and Prejudice\", \"author\": \"Jane Austen\"},\n",
    "    {\"title\": \"1984\", \"author\": \"George Orwell\"},\n",
    "    {\"title\": \"To Kill a Mockingbird\"},  # Missing \"author\" key\n",
    "    {\"title\": \"The Great Gatsby\", \"author\": None}, #Author is None\n",
    "    {\"title\": \"Another Book\", \"author\": \"Someone\"}\n",
    "]\n",
    "\n",
    "def xyz(books):\n",
    "    yield from {book.get(\"author\") for book in books if book.get(\"author\")}\n",
    "\n",
    "author_list = xyz(books)\n",
    "\n",
    "for i in author_list:\n",
    "    print(i)"
   ]
  },
  {
   "cell_type": "code",
   "execution_count": 10,
   "id": "9ce9aa28",
   "metadata": {},
   "outputs": [
    {
     "name": "stdout",
     "output_type": "stream",
     "text": [
      "<generator object get_unique_authors_generator at 0x12ad65620>\n",
      "Unique authors yielded by the generator:\n",
      "William Gibson\n",
      "Frank Herbert\n",
      "Douglas Adams\n",
      "Andy Weir\n",
      "Isaac Asimov\n",
      "\n",
      "Unique authors as a list (order is not guaranteed):\n",
      "['William Gibson', 'Frank Herbert', 'Douglas Adams', 'Andy Weir', 'Isaac Asimov']\n"
     ]
    }
   ],
   "source": [
    "# The input data\n",
    "books = [\n",
    "    {\"title\": \"The Hitchhiker's Guide to the Galaxy\", \"author\": \"Douglas Adams\"},\n",
    "    {\"title\": \"The Restaurant at the End of the Universe\", \"author\": \"Douglas Adams\"},\n",
    "    {\"title\": \"Dune\", \"author\": \"Frank Herbert\"},\n",
    "    {\"title\": \"Foundation\", \"author\": \"Isaac Asimov\"},\n",
    "    {\"title\": \"I, Robot\", \"author\": \"Isaac Asimov\"},\n",
    "    {\"title\": \"Neuromancer\", \"author\": \"William Gibson\"},\n",
    "    {\"title\": None}, # A book with no data\n",
    "    {\"title\": \"The Martian\", \"author\": \"Andy Weir\"}\n",
    "]\n",
    "\n",
    "# The generator function\n",
    "def get_unique_authors_generator(books_list):\n",
    "    \"\"\"\n",
    "    A generator that yields unique author names from a list of book dictionaries.\n",
    "    It uses a set comprehension to efficiently find unique names and\n",
    "    'yield from' to elegantly delegate to the resulting set.\n",
    "    \"\"\"\n",
    "    yield from {book.get(\"author\") for book in books_list if book.get(\"author\")}\n",
    "\n",
    "# Instantiate the generator\n",
    "unique_authors = get_unique_authors_generator(books)\n",
    "print(unique_authors)\n",
    "# Iterate through the generator and print the results\n",
    "print(\"Unique authors yielded by the generator:\")\n",
    "for author in unique_authors:\n",
    "    print(author)\n",
    "\n",
    "# You can also convert the generator to a list to see all the results at once\n",
    "# Note: The order is not guaranteed because sets are unordered\n",
    "list_of_authors = list(get_unique_authors_generator(books))\n",
    "print(\"\\nUnique authors as a list (order is not guaranteed):\")\n",
    "print(list_of_authors)"
   ]
  }
 ],
 "metadata": {
  "kernelspec": {
   "display_name": "ai",
   "language": "python",
   "name": "python3"
  },
  "language_info": {
   "codemirror_mode": {
    "name": "ipython",
    "version": 3
   },
   "file_extension": ".py",
   "mimetype": "text/x-python",
   "name": "python",
   "nbconvert_exporter": "python",
   "pygments_lexer": "ipython3",
   "version": "3.12.11"
  }
 },
 "nbformat": 4,
 "nbformat_minor": 5
}
