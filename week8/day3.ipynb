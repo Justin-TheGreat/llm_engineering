{
 "cells": [
  {
   "cell_type": "markdown",
   "id": "0df0d850-49eb-4a0b-a27a-146969db710d",
   "metadata": {},
   "source": [
    "# The Price is Right\n",
    "\n",
    "Today we'll build another piece of the puzzle: a ScanningAgent that looks for promising deals by subscribing to RSS feeds."
   ]
  },
  {
   "cell_type": "code",
   "execution_count": 1,
   "id": "d3763a79-8a5a-4300-8de4-93e85475af10",
   "metadata": {},
   "outputs": [],
   "source": [
    "# imports\n",
    "\n",
    "import os\n",
    "import json\n",
    "from dotenv import load_dotenv\n",
    "from openai import OpenAI\n",
    "from agents.deals import ScrapedDeal, DealSelection"
   ]
  },
  {
   "cell_type": "code",
   "execution_count": null,
   "id": "c6469e32-16c3-4443-9475-ade710ef6933",
   "metadata": {},
   "outputs": [],
   "source": [
    "# Initialize and constants\n",
    "\n",
    "load_dotenv(override=True)\n",
    "# os.environ['OPENAI_API_KEY'] = os.getenv('OPENAI_API_KEY', 'your-key-if-not-using-env')\n",
    "# MODEL = 'gpt-4o-mini'\n",
    "# openai = OpenAI()\n",
    "\n",
    "gemini_api_key = os.getenv(\"GEMINI_API_KEY\")\n",
    "openai = OpenAI(\n",
    "    api_key=gemini_api_key,\n",
    "    base_url=\"https://generativelanguage.googleapis.com/v1beta/openai/\"\n",
    ")\n",
    "MODEL = \"gemini-2.5-flash-lite\""
   ]
  },
  {
   "cell_type": "code",
   "execution_count": 3,
   "id": "afece9db-8cd4-46be-ac57-0b472e84da7d",
   "metadata": {},
   "outputs": [
    {
     "name": "stderr",
     "output_type": "stream",
     "text": [
      "100%|██████████| 5/5 [01:25<00:00, 17.00s/it]\n"
     ]
    }
   ],
   "source": [
    "deals = ScrapedDeal.fetch(show_progress=True)"
   ]
  },
  {
   "cell_type": "code",
   "execution_count": 4,
   "id": "8cd15c4d-eb44-4601-bf0c-f945c1d8e3ec",
   "metadata": {},
   "outputs": [
    {
     "data": {
      "text/plain": [
       "50"
      ]
     },
     "execution_count": 4,
     "metadata": {},
     "output_type": "execute_result"
    }
   ],
   "source": [
    "len(deals)"
   ]
  },
  {
   "cell_type": "code",
   "execution_count": 5,
   "id": "4259f30a-6455-49ed-8863-2f9ddd4776cb",
   "metadata": {},
   "outputs": [
    {
     "data": {
      "text/plain": [
       "\"Title: Harbor Freight Tools Member Deals: Up to 53% off + shipping from $6.99\\nDetails: Harbor Freight Tools Inside Track Club Members get up to 50% off nearly 20 items. (Not a member? It's free to join.) You will find savings on batteries, tool kits, drill bits, sanders, saws, and much more. Shipping starts at $6.99, or many items are also available in store for purchase. Shop Now at Harbor Freight Tools\\nFeatures: \\nURL: https://www.dealnews.com/Harbor-Freight-Tools-Member-Deals-Up-to-53-off-shipping-from-6-99/21760433.html?iref=rss-c196\""
      ]
     },
     "execution_count": 5,
     "metadata": {},
     "output_type": "execute_result"
    }
   ],
   "source": [
    "deals[44].describe()"
   ]
  },
  {
   "cell_type": "code",
   "execution_count": 6,
   "id": "8100e5ac-38f5-40c1-a712-08ae12c85038",
   "metadata": {},
   "outputs": [],
   "source": [
    "system_prompt = \"\"\"You identify and summarize the 5 most detailed deals from a list, by selecting deals that have the most detailed, high quality description and the most clear price.\n",
    "Respond strictly in JSON with no explanation, using this format. You should provide the price as a number derived from the description. If the price of a deal isn't clear, do not include that deal in your response.\n",
    "Most important is that you respond with the 5 deals that have the most detailed product description with price. It's not important to mention the terms of the deal; most important is a thorough description of the product.\n",
    "Be careful with products that are described as \"$XXX off\" or \"reduced by $XXX\" - this isn't the actual price of the product. Only respond with products when you are highly confident about the price. \n",
    "\n",
    "{\"deals\": [\n",
    "    {\n",
    "        \"product_description\": \"Your clearly expressed summary of the product in 4-5 sentences. Details of the item are much more important than why it's a good deal. Avoid mentioning discounts and coupons; focus on the item itself. There should be a paragpraph of text for each item you choose.\",\n",
    "        \"price\": 99.99,\n",
    "        \"url\": \"the url as provided\"\n",
    "    },\n",
    "    ...\n",
    "]}\"\"\""
   ]
  },
  {
   "cell_type": "code",
   "execution_count": 7,
   "id": "f4bca170-af71-40c9-9597-1d72980c74d8",
   "metadata": {},
   "outputs": [],
   "source": [
    "user_prompt = \"\"\"Respond with the most promising 5 deals from this list, selecting those which have the most detailed, high quality product description and a clear price.\n",
    "Respond strictly in JSON, and only JSON. You should rephrase the description to be a summary of the product itself, not the terms of the deal.\n",
    "Remember to respond with a paragraph of text in the product_description field for each of the 5 items that you select.\n",
    "Be careful with products that are described as \"$XXX off\" or \"reduced by $XXX\" - this isn't the actual price of the product. Only respond with products when you are highly confident about the price. \n",
    "\n",
    "Deals:\n",
    "\n",
    "\"\"\"\n",
    "user_prompt += '\\n\\n'.join([deal.describe() for deal in deals])"
   ]
  },
  {
   "cell_type": "code",
   "execution_count": 8,
   "id": "020947a6-561b-417b-98a0-a085e31d2ce3",
   "metadata": {},
   "outputs": [
    {
     "name": "stdout",
     "output_type": "stream",
     "text": [
      "Respond with the most promising 5 deals from this list, selecting those which have the most detailed, high quality product description and a clear price.\n",
      "Respond strictly in JSON, and only JSON. You should rephrase the description to be a summary of the product itself, not the terms of the deal.\n",
      "Remember to respond with a paragraph of text in the product_description field for each of the 5 items that you select.\n",
      "Be careful with products that are described as \"$XXX off\" or \"reduced by $XXX\" - this isn't the actual price of the product. Only respond with products when you are highly confident about the price. \n",
      "\n",
      "Deals:\n",
      "\n",
      "Title: EcoFlow Delta 2 1,024Wh Portable Power Station for $490 + free shipping\n",
      "Details: It's $19 under Amazon and the lowest price we could find. Buy Now at Walmart\n",
      "Features: AC charge input and output  solar input (solar panel not included)  4 USB charging ports 2 USB-C charging ports Model: EFD330-2\n",
      "URL: https://www.dealnews.com/products/Eco-Flow/Eco-Flow-Delta-2-1-024-Wh-Portable-Power-Station/473744.html?iref=rss-c142\n",
      "\n",
      "Title: Open-Box Beats Pill Portable Bluetooth Speaker for $75 + free shipping\n",
      "Details: That's $25 less than you'd pay for a factory-sealed speaker at Amazon today. It comes with a 1-year warranty, although it's not clear who backs it. Buy Now at StackSocial\n",
      "Features: 100W max output Bluetooth & USB connections IP67-rated for dust and water resistance pairs to other Beats Pill speakers in Amplify mode or Stereo mode Model: MW443LL/A\n",
      "URL: https://www.dealnews.com/products/Beats/Beats-Pill-Portable-Bluetooth-Speaker/488557.html?iref=rss-c142\n",
      "\n",
      "Title: My Notes AI Pro Plan: Lifetime subscription for $40\n",
      "Details: Save $259 on a lifetime subscription to this software. This app for Macs, iPhones, and iPads records and transcribes audio, with summaries and exports available. This deal is for new users only. Buy Now at StackSocial\n",
      "Features: \n",
      "URL: https://www.dealnews.com/My-Notes-AI-Pro-Plan-Lifetime-subscription-for-40/21760280.html?iref=rss-c1\n"
     ]
    }
   ],
   "source": [
    "print(user_prompt[:2000])"
   ]
  },
  {
   "cell_type": "code",
   "execution_count": 9,
   "id": "7de46f74-868c-4127-8a68-cf2da7d600bb",
   "metadata": {},
   "outputs": [],
   "source": [
    "def get_recommendations():\n",
    "    completion = openai.beta.chat.completions.parse(\n",
    "        model=MODEL,\n",
    "        messages=[\n",
    "            {\"role\": \"system\", \"content\": system_prompt},\n",
    "            {\"role\": \"user\", \"content\": user_prompt}\n",
    "      ],\n",
    "        response_format=DealSelection\n",
    "    )\n",
    "    result = completion.choices[0].message.parsed\n",
    "    return result"
   ]
  },
  {
   "cell_type": "code",
   "execution_count": 10,
   "id": "4c06270d-8c17-4d5a-9cfe-b6cefe788d5e",
   "metadata": {},
   "outputs": [],
   "source": [
    "result = get_recommendations()"
   ]
  },
  {
   "cell_type": "code",
   "execution_count": 11,
   "id": "84e62845-3338-441a-8161-c70097af4773",
   "metadata": {},
   "outputs": [
    {
     "data": {
      "text/plain": [
       "5"
      ]
     },
     "execution_count": 11,
     "metadata": {},
     "output_type": "execute_result"
    }
   ],
   "source": [
    "len(result.deals)"
   ]
  },
  {
   "cell_type": "code",
   "execution_count": 12,
   "id": "e5554a0a-ae40-4684-ad3e-faa3d22e030c",
   "metadata": {},
   "outputs": [
    {
     "data": {
      "text/plain": [
       "Deal(product_description='This Dell 15 laptop features a 15.6-inch touchscreen display with a Full HD resolution of 1920 x 1080. It is powered by a 13th Generation Intel Core i7-1355U \"Raptor Lake\" processor, which is a 10-core CPU with a clock speed of 3.7GHz. The system is equipped with 16GB of RAM for efficient multitasking and a large 1TB M.2 PCIe solid-state drive for fast boot times and ample storage. This model comes pre-installed with the Windows 11 Home operating system, providing a modern and secure user experience.', price=600.0, url='https://www.dealnews.com/Dell-15-13-th-Gen-i7-15-6-Touch-Laptop-w-16-GB-RAM-and-1-TB-SSD-for-600-free-shipping/21760454.html?iref=rss-c39')"
      ]
     },
     "execution_count": 12,
     "metadata": {},
     "output_type": "execute_result"
    }
   ],
   "source": [
    "result.deals[1]"
   ]
  },
  {
   "cell_type": "code",
   "execution_count": 17,
   "id": "8bdc57fb-7497-47af-a643-6ba5a21cc17e",
   "metadata": {},
   "outputs": [],
   "source": [
    "from agents.scanner_agent import ScannerAgent"
   ]
  },
  {
   "cell_type": "code",
   "execution_count": 18,
   "id": "132278bc-217a-43a6-b6c4-724140c6a225",
   "metadata": {},
   "outputs": [],
   "source": [
    "agent = ScannerAgent()\n",
    "result = agent.scan()"
   ]
  },
  {
   "cell_type": "code",
   "execution_count": 19,
   "id": "2e1d013a-c930-4dad-901b-41433379e14b",
   "metadata": {},
   "outputs": [
    {
     "data": {
      "text/plain": [
       "DealSelection(deals=[Deal(product_description='This is the Samsung QN80F Series TV, model QN100QN80FFXZA. It features a massive 100-inch Neo QLED screen with a 3840x2160 4K native resolution for ultra-high-definition viewing. The display supports both HDR10+ and HLG for enhanced contrast and color, coupled with a smooth 120Hz refresh rate ideal for action movies and gaming. As a smart TV, it runs on the Tizen OS and comes with built-in Alexa and Google Assistant for voice control. For connectivity, it includes four HDMI inputs to accommodate various external devices.', price=6000.0, url='https://www.dealnews.com/products/Samsung/Samsung-QN80-F-Series-QN100-QN80-FFXZA-100-4-K-HDR-120-Hz-Neo-QLED-Smart-TV-2025/492808.html?iref=rss-c142'), Deal(product_description='This Dell 15 laptop is a versatile machine designed for productivity and everyday use. It is powered by a 13th Generation Intel Core i7-1355U \"Raptor Lake\" 10-core processor, ensuring robust performance for multitasking. The laptop features a 15.6-inch touch display with a full HD 1920 x 1080 resolution. It is equipped with 16GB of RAM for smooth operation and a spacious 1TB M.2 PCIe solid-state drive for fast boot times and ample storage. The device comes pre-installed with the Windows 11 Home operating system.', price=600.0, url='https://www.dealnews.com/Dell-15-13-th-Gen-i7-15-6-Touch-Laptop-w-16-GB-RAM-and-1-TB-SSD-for-600-free-shipping/21760454.html?iref=rss-c39'), Deal(product_description='This is the Samsung LS49CG954ENXZA, a 49-inch curved gaming monitor designed for immersive gameplay. It boasts a 5120x1440 Dual QHD native resolution, providing a wide and detailed visual field. Engineered for high-performance gaming, it features a rapid 240Hz refresh rate and a 1ms response time to minimize motion blur and input lag. The monitor supports AMD FreeSync Premium Pro technology for tear-free and stutter-free visuals. For connectivity, it includes two USB 3.0 ports.', price=800.0, url='https://www.dealnews.com/products/Samsung/Samsung-LS49-CG954-ENXZA-49-Curved-240-Hz-Gaming-Monitor-2024/467492.html?iref=rss-c39'), Deal(product_description='This security package includes five Blink Outdoor 4 cameras and a Sync Module Core. Each camera delivers clear 1080p HD video and features both day and night vision capabilities for around-the-clock surveillance. A key feature is the impressive two-year battery life, reducing the need for frequent maintenance. The cameras support two-way audio communication, allowing you to listen and speak through the device, and incorporate enhanced motion detection to alert you to activity. The system is fully compatible with Alexa for voice control and integration into a smart home ecosystem.', price=120.0, url='https://www.dealnews.com/products/Blink/Blink-Outdoor-4-5-Camera-System/491527.html?iref=rss-f1912'), Deal(product_description=\"The Ecovacs Deebot NEO+, model DBX41, is a robotic cleaning device that combines vacuuming and mopping functions. It comes with an auto-empty station, which automatically disposes of dirt from the robot's dustbin. The device uses advanced LiDAR mapping and smart sensors to navigate efficiently and create precise cleaning paths throughout your home. It can run for up to 170 minutes on a single charge and features intelligent carpet detection, which automatically adjusts suction power when moving from hard floors to carpets.\", price=230.0, url='https://www.dealnews.com/products/Ecovacs/Ecovacs-Deebot-NEO-Robot-Vacuum-Mop-w-Auto-Empty-Station/492059.html?iref=rss-f1912')])"
      ]
     },
     "execution_count": 19,
     "metadata": {},
     "output_type": "execute_result"
    }
   ],
   "source": [
    "result"
   ]
  },
  {
   "cell_type": "code",
   "execution_count": null,
   "id": "5ee2e837-1f1d-42d4-8bc4-51cccc343006",
   "metadata": {},
   "outputs": [],
   "source": []
  }
 ],
 "metadata": {
  "kernelspec": {
   "display_name": "ai",
   "language": "python",
   "name": "python3"
  },
  "language_info": {
   "codemirror_mode": {
    "name": "ipython",
    "version": 3
   },
   "file_extension": ".py",
   "mimetype": "text/x-python",
   "name": "python",
   "nbconvert_exporter": "python",
   "pygments_lexer": "ipython3",
   "version": "3.12.11"
  }
 },
 "nbformat": 4,
 "nbformat_minor": 5
}
