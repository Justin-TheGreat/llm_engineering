{
 "cells": [
  {
   "cell_type": "markdown",
   "id": "0df0d850-49eb-4a0b-a27a-146969db710d",
   "metadata": {},
   "source": [
    "# The Price is Right\n",
    "\n",
    "Today we'll build another piece of the puzzle: a ScanningAgent that looks for promising deals by subscribing to RSS feeds."
   ]
  },
  {
   "cell_type": "code",
   "execution_count": 1,
   "id": "d3763a79-8a5a-4300-8de4-93e85475af10",
   "metadata": {},
   "outputs": [],
   "source": [
    "# imports\n",
    "\n",
    "import os\n",
    "import json\n",
    "from dotenv import load_dotenv\n",
    "from openai import OpenAI\n",
    "from agents.deals import ScrapedDeal, DealSelection"
   ]
  },
  {
   "cell_type": "code",
   "execution_count": 2,
   "id": "c6469e32-16c3-4443-9475-ade710ef6933",
   "metadata": {},
   "outputs": [],
   "source": [
    "# Initialize and constants\n",
    "\n",
    "load_dotenv(override=True)\n",
    "# os.environ['OPENAI_API_KEY'] = os.getenv('OPENAI_API_KEY', 'your-key-if-not-using-env')\n",
    "# MODEL = 'gpt-4o-mini'\n",
    "# openai = OpenAI()\n",
    "\n",
    "gemini_api_key = os.getenv(\"GEMINI_API_KEY\")\n",
    "openai = OpenAI(\n",
    "    api_key=gemini_api_key,\n",
    "    base_url=\"https://generativelanguage.googleapis.com/v1beta/openai/\"\n",
    ")\n",
    "MODEL = \"gemini-2.5-flash-lite\""
   ]
  },
  {
   "cell_type": "code",
   "execution_count": 3,
   "id": "afece9db-8cd4-46be-ac57-0b472e84da7d",
   "metadata": {},
   "outputs": [
    {
     "name": "stderr",
     "output_type": "stream",
     "text": [
      "100%|██████████| 5/5 [01:22<00:00, 16.47s/it]\n"
     ]
    }
   ],
   "source": [
    "deals = ScrapedDeal.fetch(show_progress=True)"
   ]
  },
  {
   "cell_type": "code",
   "execution_count": 4,
   "id": "8cd15c4d-eb44-4601-bf0c-f945c1d8e3ec",
   "metadata": {},
   "outputs": [
    {
     "data": {
      "text/plain": [
       "50"
      ]
     },
     "execution_count": 4,
     "metadata": {},
     "output_type": "execute_result"
    }
   ],
   "source": [
    "len(deals)"
   ]
  },
  {
   "cell_type": "code",
   "execution_count": 5,
   "id": "4259f30a-6455-49ed-8863-2f9ddd4776cb",
   "metadata": {},
   "outputs": [
    {
     "data": {
      "text/plain": [
       "\"Title: Harbor Freight Tools Member Deals: Up to 53% off + shipping from $6.99\\nDetails: Harbor Freight Tools Inside Track Club Members get up to 50% off nearly 20 items. (Not a member? It's free to join.) You will find savings on batteries, tool kits, drill bits, sanders, saws, and much more. Shipping starts at $6.99, or many items are also available in store for purchase. Shop Now at Harbor Freight Tools\\nFeatures: \\nURL: https://www.dealnews.com/Harbor-Freight-Tools-Member-Deals-Up-to-53-off-shipping-from-6-99/21760433.html?iref=rss-c196\""
      ]
     },
     "execution_count": 5,
     "metadata": {},
     "output_type": "execute_result"
    }
   ],
   "source": [
    "deals[44].describe()"
   ]
  },
  {
   "cell_type": "code",
   "execution_count": 6,
   "id": "8100e5ac-38f5-40c1-a712-08ae12c85038",
   "metadata": {},
   "outputs": [],
   "source": [
    "system_prompt = \"\"\"You identify and summarize the 5 most detailed deals from a list, by selecting deals that have the most detailed, high quality description and the most clear price.\n",
    "Respond strictly in JSON with no explanation, using this format. You should provide the price as a number derived from the description. If the price of a deal isn't clear, do not include that deal in your response.\n",
    "Most important is that you respond with the 5 deals that have the most detailed product description with price. It's not important to mention the terms of the deal; most important is a thorough description of the product.\n",
    "Be careful with products that are described as \"$XXX off\" or \"reduced by $XXX\" - this isn't the actual price of the product. Only respond with products when you are highly confident about the price. \n",
    "\n",
    "{\"deals\": [\n",
    "    {\n",
    "        \"product_description\": \"Your clearly expressed summary of the product in 4-5 sentences. Details of the item are much more important than why it's a good deal. Avoid mentioning discounts and coupons; focus on the item itself. There should be a paragpraph of text for each item you choose.\",\n",
    "        \"price\": 99.99,\n",
    "        \"url\": \"the url as provided\"\n",
    "    },\n",
    "    ...\n",
    "]}\"\"\""
   ]
  },
  {
   "cell_type": "code",
   "execution_count": 7,
   "id": "f4bca170-af71-40c9-9597-1d72980c74d8",
   "metadata": {},
   "outputs": [],
   "source": [
    "user_prompt = \"\"\"Respond with the most promising 5 deals from this list, selecting those which have the most detailed, high quality product description and a clear price.\n",
    "Respond strictly in JSON, and only JSON. You should rephrase the description to be a summary of the product itself, not the terms of the deal.\n",
    "Remember to respond with a paragraph of text in the product_description field for each of the 5 items that you select.\n",
    "Be careful with products that are described as \"$XXX off\" or \"reduced by $XXX\" - this isn't the actual price of the product. Only respond with products when you are highly confident about the price. \n",
    "\n",
    "Deals:\n",
    "\n",
    "\"\"\"\n",
    "user_prompt += '\\n\\n'.join([deal.describe() for deal in deals])"
   ]
  },
  {
   "cell_type": "code",
   "execution_count": 8,
   "id": "020947a6-561b-417b-98a0-a085e31d2ce3",
   "metadata": {},
   "outputs": [
    {
     "name": "stdout",
     "output_type": "stream",
     "text": [
      "Respond with the most promising 5 deals from this list, selecting those which have the most detailed, high quality product description and a clear price.\n",
      "Respond strictly in JSON, and only JSON. You should rephrase the description to be a summary of the product itself, not the terms of the deal.\n",
      "Remember to respond with a paragraph of text in the product_description field for each of the 5 items that you select.\n",
      "Be careful with products that are described as \"$XXX off\" or \"reduced by $XXX\" - this isn't the actual price of the product. Only respond with products when you are highly confident about the price. \n",
      "\n",
      "Deals:\n",
      "\n",
      "Title: EcoFlow Delta 2 1,024Wh Portable Power Station for $490 + free shipping\n",
      "Details: It's $19 under Amazon and the lowest price we could find. Buy Now at Walmart\n",
      "Features: AC charge input and output  solar input (solar panel not included)  4 USB charging ports 2 USB-C charging ports Model: EFD330-2\n",
      "URL: https://www.dealnews.com/products/Eco-Flow/Eco-Flow-Delta-2-1-024-Wh-Portable-Power-Station/473744.html?iref=rss-c142\n",
      "\n",
      "Title: Open-Box Beats Pill Portable Bluetooth Speaker for $75 + free shipping\n",
      "Details: That's $25 less than you'd pay for a factory-sealed speaker at Amazon today. It comes with a 1-year warranty, although it's not clear who backs it. Buy Now at StackSocial\n",
      "Features: 100W max output Bluetooth & USB connections IP67-rated for dust and water resistance pairs to other Beats Pill speakers in Amplify mode or Stereo mode Model: MW443LL/A\n",
      "URL: https://www.dealnews.com/products/Beats/Beats-Pill-Portable-Bluetooth-Speaker/488557.html?iref=rss-c142\n",
      "\n",
      "Title: My Notes AI Pro Plan: Lifetime subscription for $40\n",
      "Details: Save $259 on a lifetime subscription to this software. This app for Macs, iPhones, and iPads records and transcribes audio, with summaries and exports available. This deal is for new users only. Buy Now at StackSocial\n",
      "Features: \n",
      "URL: https://www.dealnews.com/My-Notes-AI-Pro-Plan-Lifetime-subscription-for-40/21760280.html?iref=rss-c1\n"
     ]
    }
   ],
   "source": [
    "print(user_prompt[:2000])"
   ]
  },
  {
   "cell_type": "code",
   "execution_count": 9,
   "id": "7de46f74-868c-4127-8a68-cf2da7d600bb",
   "metadata": {},
   "outputs": [],
   "source": [
    "def get_recommendations():\n",
    "    completion = openai.beta.chat.completions.parse(\n",
    "        model=MODEL,\n",
    "        messages=[\n",
    "            {\"role\": \"system\", \"content\": system_prompt},\n",
    "            {\"role\": \"user\", \"content\": user_prompt}\n",
    "      ],\n",
    "        response_format=DealSelection\n",
    "    )\n",
    "    result = completion.choices[0].message.parsed\n",
    "    return result"
   ]
  },
  {
   "cell_type": "code",
   "execution_count": 10,
   "id": "4c06270d-8c17-4d5a-9cfe-b6cefe788d5e",
   "metadata": {},
   "outputs": [],
   "source": [
    "result = get_recommendations()"
   ]
  },
  {
   "cell_type": "code",
   "execution_count": 11,
   "id": "84e62845-3338-441a-8161-c70097af4773",
   "metadata": {},
   "outputs": [
    {
     "data": {
      "text/plain": [
       "5"
      ]
     },
     "execution_count": 11,
     "metadata": {},
     "output_type": "execute_result"
    }
   ],
   "source": [
    "len(result.deals)"
   ]
  },
  {
   "cell_type": "code",
   "execution_count": 12,
   "id": "e5554a0a-ae40-4684-ad3e-faa3d22e030c",
   "metadata": {},
   "outputs": [
    {
     "data": {
      "text/plain": [
       "Deal(product_description='The EcoFlow Delta 2 is a portable power station with a 1,024Wh capacity. It offers AC charge input and output, and a solar input option (solar panel not included). For charging devices, it features 4 USB ports and 2 USB-C charging ports, providing versatile connectivity for various electronic devices. This model is the EcoFlow Delta 2, model EFD330-2.', price=490.0, url='https://www.dealnews.com/products/Eco-Flow/Eco-Flow-Delta-2-1-024-Wh-Portable-Power-Station/473744.html?iref=rss-c142')"
      ]
     },
     "execution_count": 12,
     "metadata": {},
     "output_type": "execute_result"
    }
   ],
   "source": [
    "result.deals[1]"
   ]
  },
  {
   "cell_type": "code",
   "execution_count": 13,
   "id": "8bdc57fb-7497-47af-a643-6ba5a21cc17e",
   "metadata": {},
   "outputs": [],
   "source": [
    "from agents.scanner_agent import ScannerAgent"
   ]
  },
  {
   "cell_type": "code",
   "execution_count": 14,
   "id": "132278bc-217a-43a6-b6c4-724140c6a225",
   "metadata": {},
   "outputs": [],
   "source": [
    "agent = ScannerAgent()\n",
    "result = agent.scan()"
   ]
  },
  {
   "cell_type": "code",
   "execution_count": 15,
   "id": "2e1d013a-c930-4dad-901b-41433379e14b",
   "metadata": {},
   "outputs": [
    {
     "data": {
      "text/plain": [
       "DealSelection(deals=[Deal(product_description='This is a Samsung QN80F Series 100-inch 4K HDR 120Hz Neo QLED Smart TV from the 2025 lineup. It features a 3840x2160 native resolution, HDR10+ and HLG support, and a 120Hz refresh rate. The TV runs on the Tizen Smart OS and is compatible with Alexa and Google Assistant. It includes 4 HDMI inputs for connectivity. This purchase also includes a free 65-inch U8000F 4K Smart TV.', price=6000.0, url='https://www.dealnews.com/products/Samsung/Samsung-QN80-F-Series-QN100-QN80-FFXZA-100-4-K-HDR-120-Hz-Neo-QLED-Smart-TV-2025/492808.html?iref=rss-c142'), Deal(product_description=\"The EcoFlow Delta 2 is a portable power station with a 1,024Wh capacity. It features AC charge input and output, a solar input port (solar panel not included), four USB charging ports, and two USB-C charging ports. This unit is designed for versatile power needs, whether you're camping or dealing with power outages.\", price=490.0, url='https://www.dealnews.com/products/Eco-Flow/Eco-Flow-Delta-2-1-024-Wh-Portable-Power-Station/473744.html?iref=rss-c142'), Deal(product_description='This DC House 48V 100AH LiFePO4 Lithium Golf Cart Battery comes with a 48V 18A Charger Trolling Motor. It supports Bluetooth and screen monitoring, and features advanced BMS protection for enhanced safety and performance. This battery is designed for golf carts and similar applications requiring reliable power.', price=690.0, url='https://www.dealnews.com/DC-House-48-V-100-AH-Li-Fe-PO4-Lithium-Golf-Cart-Battery-w-Charger-for-690-free-shipping/21760017.html?iref=rss-c238'), Deal(product_description='My Notes AI Pro Plan offers a lifetime subscription to a software application compatible with Macs, iPhones, and iPads. This app is designed to record and transcribe audio. It also provides features for creating summaries and exporting your transcribed content, streamlining note-taking and information management.', price=40.0, url='https://www.dealnews.com/My-Notes-AI-Pro-Plan-Lifetime-subscription-for-40/21760280.html?iref=rss-c142'), Deal(product_description='The Dell 15 laptop is equipped with a 13th-Gen Intel Core i7-1355U 10-Core CPU and a 15.6\" touchscreen display. It comes with 16GB of RAM and a 1TB M.2 PCIe SSD for ample storage and fast performance. The laptop runs on Windows 11 Home.', price=600.0, url='https://www.dealnews.com/Dell-15-13-th-Gen-i7-15-6-Touch-Laptop-w-16-GB-RAM-and-1-TB-SSD-for-600-free-shipping/21760454.html?iref=rss-c39')])"
      ]
     },
     "execution_count": 15,
     "metadata": {},
     "output_type": "execute_result"
    }
   ],
   "source": [
    "result"
   ]
  },
  {
   "cell_type": "code",
   "execution_count": null,
   "id": "5ee2e837-1f1d-42d4-8bc4-51cccc343006",
   "metadata": {},
   "outputs": [],
   "source": []
  }
 ],
 "metadata": {
  "kernelspec": {
   "display_name": "ai",
   "language": "python",
   "name": "python3"
  },
  "language_info": {
   "codemirror_mode": {
    "name": "ipython",
    "version": 3
   },
   "file_extension": ".py",
   "mimetype": "text/x-python",
   "name": "python",
   "nbconvert_exporter": "python",
   "pygments_lexer": "ipython3",
   "version": "3.12.11"
  }
 },
 "nbformat": 4,
 "nbformat_minor": 5
}
